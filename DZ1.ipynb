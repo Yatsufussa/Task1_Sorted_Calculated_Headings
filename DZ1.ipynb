{
 "cells": [
  {
   "cell_type": "code",
   "execution_count": 6,
   "id": "e5ebdd8b",
   "metadata": {},
   "outputs": [
    {
     "name": "stdout",
     "output_type": "stream",
     "text": [
      "12 starlife\n",
      "10 video\n",
      "10 politics\n",
      "8 world\n",
      "7 articles\n",
      "5 science\n",
      "5 incidents\n",
      "4 cis\n",
      "4 business\n",
      "3 middleeast\n",
      "3 economics\n",
      "2 sport\n",
      "2 health\n",
      "2 head\n",
      "1 travel\n",
      "1 lifestyle\n",
      "1 kinomusic\n",
      "1 finances\n",
      "1 europe\n"
     ]
    }
   ],
   "source": [
    "import re\n",
    "\n",
    "handle = open ('urls.txt', 'r')\n",
    "data = handle.read()\n",
    "\n",
    "_dict = {}\n",
    "_list = []\n",
    "\n",
    "_subj = re.findall('/(\\w+)/\\S+/',data)\n",
    "\n",
    "for word in _subj:\n",
    "    _dict[word] = _dict.get (word, 0) + 1\n",
    "    \n",
    "\n",
    "for k,v in _dict.items():\n",
    "    _list.append((v,k))\n",
    "\n",
    "\n",
    "_list = sorted(_list, reverse=True)\n",
    "\n",
    "\n",
    "for k,v in _list:\n",
    "    print (k,v)"
   ]
  },
  {
   "cell_type": "code",
   "execution_count": null,
   "id": "883c7986",
   "metadata": {},
   "outputs": [],
   "source": []
  }
 ],
 "metadata": {
  "kernelspec": {
   "display_name": "Python 3 (ipykernel)",
   "language": "python",
   "name": "python3"
  },
  "language_info": {
   "codemirror_mode": {
    "name": "ipython",
    "version": 3
   },
   "file_extension": ".py",
   "mimetype": "text/x-python",
   "name": "python",
   "nbconvert_exporter": "python",
   "pygments_lexer": "ipython3",
   "version": "3.11.5"
  }
 },
 "nbformat": 4,
 "nbformat_minor": 5
}
